{
  "nbformat": 4,
  "nbformat_minor": 0,
  "metadata": {
    "colab": {
      "provenance": []
    },
    "kernelspec": {
      "name": "python3",
      "display_name": "Python 3"
    },
    "language_info": {
      "name": "python"
    }
  },
  "cells": [
    {
      "cell_type": "markdown",
      "source": [
        "#Python - Data Structure Questions-"
      ],
      "metadata": {
        "id": "DGX4vBkbbWvW"
      }
    },
    {
      "cell_type": "markdown",
      "source": [
        "1. What are data structures and why are they important?\n",
        "\n",
        "  - Data structures are specialized formats for organizing, storing, and managing data. They define the relationship between the data and the operations that can be performed on it. In Python, data structures are crucial for efficient data manipulation and problem-solving.\n",
        "\n",
        "  Data structures are important because it provides the organization, efficiency, problem solving, management and foundation."
      ],
      "metadata": {
        "id": "7J-4wxwCetFd"
      }
    },
    {
      "cell_type": "markdown",
      "source": [
        "2. Explain the difference between mutable and immutable data types with examples?\n",
        "  - Modifiability: Mutable objects can be changed after creation, while immutable objects cannot.\n",
        "  - Memory: When a mutable object is changed, its memory address remains the same. When an immutable object is changed, a new object is created in memory.\n",
        "  - Performance: Immutable objects can be faster to access and process because Python can optimize memory usage by reusing them. Mutable objects are more flexible but can incur overhead due to dynamic memory resizing."
      ],
      "metadata": {
        "id": "nVll5oRrf6vr"
      }
    },
    {
      "cell_type": "markdown",
      "source": [
        "3. What are the main differences between lists and tuples in Python?\n",
        "\n",
        "  - Mutability: Lists are mutable, meaning their elements can be changed, added, or removed after creation. Tuples are immutable, which means that once a tuple is created, its elements cannot be modified.\n",
        "  - Syntax: Lists are defined using square brackets []. For example, my_list = [1, 2, 3]. Tuples are defined using parentheses (). For example, my_tuple = (1, 2, 3).\n",
        "  - Performance: Lists are slightly slower due to their dynamic nature and the need to allocate extra memory for potential changes. Tuples are generally faster than lists, especially when iterating through the elements. This is because tuples are immutable and Python can optimize their storage and access.\n",
        "  - Memory Usage: Lists require more memory as they support operations that modify their content. Tuples generally consume less memory than lists because they are immutable and have a fixed size."
      ],
      "metadata": {
        "id": "Ert7hqCphBvp"
      }
    },
    {
      "cell_type": "markdown",
      "source": [
        "4. Describe how dictionaries store data?\n",
        "\n",
        "  - Dictionaries in Python store data as key-value pairs. Each key within a dictionary is unique and immutable, while the associated value can be of any data type and is mutable. Dictionaries are unordered, meaning the sequence of pairs is not guaranteed."
      ],
      "metadata": {
        "id": "J1ndMCvViKOc"
      }
    },
    {
      "cell_type": "markdown",
      "source": [
        "5. Why might you use a set instead of a list in Python?\n",
        "\n",
        " - We use set instead of a list during the following instances.\n",
        "    - We need to store unique elements.\n",
        "    - We need to perform membership testing frequently.\n",
        "    - We need to perform mathematical set operations.\n",
        "    - When the order of elements is not important."
      ],
      "metadata": {
        "id": "SxONGhcfiu0U"
      }
    },
    {
      "cell_type": "markdown",
      "source": [
        "6. What is a string in Python and how is it different from a list?\n",
        "\n",
        "  - A string in Python is a sequence of characters. It is used to represent textual data and is one of the most fundamental data types in the language. Strings are immutable, meaning they cannot be changed after they are created. Whereas List is a sequence of values which can be characters, integers or even another list. List are mutable, meaning they can be changed after they are created.\n"
      ],
      "metadata": {
        "id": "4z8HnGgajakC"
      }
    },
    {
      "cell_type": "markdown",
      "source": [
        "7. How do tuples ensure data integrity in Python?\n",
        "\n",
        "  - Tuples in Python ensure data integrity primarily through their immutability. Once a tuple is created, its elements cannot be changed, added, or removed. This characteristic prevents accidental modifications, which is crucial for maintaining consistent data throughout a program."
      ],
      "metadata": {
        "id": "w_2ps_7bmQnj"
      }
    },
    {
      "cell_type": "markdown",
      "source": [
        "8. What is a hash table, and how does it relate to dictionaries in Python?\n",
        "\n",
        "  - A hash table is a data structure that stores key-value pairs. It uses a hash function to compute an index (hash code) into an array of buckets or slots, where the value is stored.\n",
        "  In Python, dictionaries are implemented using hash tables. When you create a dictionary, Python uses a hash function to generate a hash code for each key. This hash code is then used to determine where the key-value pair should be stored within the underlying hash table. This mechanism allows for fast lookups, insertions, and deletions, making dictionaries efficient for various tasks."
      ],
      "metadata": {
        "id": "-LavAyFgmdvC"
      }
    },
    {
      "cell_type": "markdown",
      "source": [
        "9. Can lists contain different data types in Python?\n",
        "\n",
        "  - Yes, lists in Python can contain different data types. This means a single list can hold a combination of integers, floats, strings, booleans, and even other complex data structures like lists, tuples, or dictionaries."
      ],
      "metadata": {
        "id": "5ROFzKONm8ks"
      }
    },
    {
      "cell_type": "markdown",
      "source": [
        "10. Explain why strings are immutable in Python.\n",
        "\n",
        "  - When we perform operations like concatenation or slicing on a string, a new string object is created, and the original string remains unchanged. This behavior is consistent across all immutable data types in Python, including integers, floats, booleans, and tuples. This helps to get original data in the future for any kind of reconciliations."
      ],
      "metadata": {
        "id": "6o-xZbEdnWKg"
      }
    },
    {
      "cell_type": "markdown",
      "source": [
        "11. What advantages do dictionaries offer over lists for certain tasks?\n",
        "\n",
        "  - The primary advantage would be retrieving stored values as it is much simpler to search through a dictionary. If the data your trying to store is identifiable so the data can be attributed to name name or item this might be a preferable system. One example would be storing the age of school students."
      ],
      "metadata": {
        "id": "Wr32gbxhn2ZP"
      }
    },
    {
      "cell_type": "markdown",
      "source": [
        "12. Describe a scenario where using a tuple would be preferable over a list?\n",
        "\n",
        "  - If we have data that's not meant to be changed in the first place — such as critical information or records — we should choose tuple data type over lists. But if we know that the data will grow and shrink during the runtime of the application, we need to go with the list data type."
      ],
      "metadata": {
        "id": "s83-iltOoMRm"
      }
    },
    {
      "cell_type": "markdown",
      "source": [
        "13.  How do sets handle duplicate values in Python?\n",
        "\n",
        "  - In Python, sets are designed to store only unique elements. When we attempt to add a duplicate value to a set, it does not raise an error, but the duplicate value is simply ignored, and the set remains unchanged."
      ],
      "metadata": {
        "id": "X4jcGe0PoieN"
      }
    },
    {
      "cell_type": "markdown",
      "source": [
        "14.  How does the “in” keyword work differently for lists and dictionaries?\n",
        "\n",
        "  - For lists, \"in\" Keyword uses a search algorithm, whereas, for dictionaries, \"in\" keyword tells us whether something appears or not as a key in the dictionary."
      ],
      "metadata": {
        "id": "ZhXQNEogo2WM"
      }
    },
    {
      "cell_type": "markdown",
      "source": [
        "15. Can you modify the elements of a tuple? Explain why or why not?\n",
        "\n",
        "  - No, we cannot directly modify the elements of a tuple after it has been created. Tuples are immutable data structures, meaning their contents cannot be changed, added to, or removed from once they are defined. This immutability ensures that the data within a tuple remains consistent and predictable throughout its lifetime."
      ],
      "metadata": {
        "id": "osVlN1xbpqke"
      }
    },
    {
      "cell_type": "markdown",
      "source": [
        "16. What is a nested dictionary, and give an example of its use case?\n",
        "\n",
        "  - A nested dictionary in Python is a dictionary where the values are themselves dictionaries. This allows us to create hierarchical or multi-level data structures, where each dictionary can contain other dictionaries as its values.\n",
        "  Example:- Representing structures like employee departments, file systems, or product categories.\n"
      ],
      "metadata": {
        "id": "rBEFy_shp83L"
      }
    },
    {
      "cell_type": "markdown",
      "source": [
        "17. Describe the time complexity of accessing elements in a dictionary?\n",
        "\n",
        "  - Accessing an element in a dictionary typically has an average time complexity of O(1), meaning it takes constant time regardless of the dictionary's size. This is due to the use of a hash table, which allows for direct lookup of elements based on their key. In the worst-case scenario, where a hash function causes many collisions, the time complexity can degrade to O(n), where n is the number of elements in the dictionary."
      ],
      "metadata": {
        "id": "Chhihd04qbpc"
      }
    },
    {
      "cell_type": "markdown",
      "source": [
        "18.  In what situations are lists preferred over dictionaries?\n",
        "\n",
        "  - For quick data look-ups, configurations, or caches, favor dictionaries, ordered collections and sequence operations, such as maintaining a stack or queue, lists are more suitable."
      ],
      "metadata": {
        "id": "bRH3nnlRq0No"
      }
    },
    {
      "cell_type": "markdown",
      "source": [
        "19. Why are dictionaries considered unordered, and how does that affect data retrieval?\n",
        "\n",
        "  - In python, dictionaries are un-ordered because Python dictionaries are not intended to be in order. If we want to collect a set of objects in order, we have only one choice of accessing them: through index."
      ],
      "metadata": {
        "id": "356Db7LorGbJ"
      }
    },
    {
      "cell_type": "markdown",
      "source": [
        "20. Explain the difference between a list and a dictionary in terms of data retrieval.\n",
        "\n",
        "  - In terms of data retrieval, lists are accessed by index, while dictionaries are accessed by key."
      ],
      "metadata": {
        "id": "mNydfQRNro5n"
      }
    },
    {
      "cell_type": "markdown",
      "source": [
        "#Practical Questions"
      ],
      "metadata": {
        "id": "6X5PvLyztBRD"
      }
    },
    {
      "cell_type": "code",
      "source": [
        "# Write a code to create a string with your name and print it.\n",
        "\n",
        "a = \"SOURAV\"\n",
        "print(\"SOURAV\")\n",
        "type(a)"
      ],
      "metadata": {
        "id": "SkpOjbTjtGFO",
        "colab": {
          "base_uri": "https://localhost:8080/"
        },
        "outputId": "09dadadb-d24c-414c-ff88-b6cc4341a67c"
      },
      "execution_count": null,
      "outputs": [
        {
          "output_type": "stream",
          "name": "stdout",
          "text": [
            "SOURAV\n"
          ]
        },
        {
          "output_type": "execute_result",
          "data": {
            "text/plain": [
              "str"
            ]
          },
          "metadata": {},
          "execution_count": 9
        }
      ]
    },
    {
      "cell_type": "code",
      "source": [
        "# Write a code to find the length of the string \"Hello World\".\n",
        "\n",
        "a = \"Hello World\"\n",
        "len(a)"
      ],
      "metadata": {
        "colab": {
          "base_uri": "https://localhost:8080/"
        },
        "id": "ywsGbz3BO7Fl",
        "outputId": "6484b1ad-97da-4926-b220-74d44fa70d13"
      },
      "execution_count": null,
      "outputs": [
        {
          "output_type": "execute_result",
          "data": {
            "text/plain": [
              "11"
            ]
          },
          "metadata": {},
          "execution_count": 10
        }
      ]
    },
    {
      "cell_type": "code",
      "source": [
        "# Write a code to slice the first 3 characters from the string \"Python Programming\".\n",
        "\n",
        "String1 = \"Python Programming\"\n",
        "String1 [0:3]"
      ],
      "metadata": {
        "colab": {
          "base_uri": "https://localhost:8080/",
          "height": 36
        },
        "id": "uq-ieA6KRKAn",
        "outputId": "f4310a8f-179d-46a5-ce51-ee5f07fd6781"
      },
      "execution_count": null,
      "outputs": [
        {
          "output_type": "execute_result",
          "data": {
            "text/plain": [
              "'Pyt'"
            ],
            "application/vnd.google.colaboratory.intrinsic+json": {
              "type": "string"
            }
          },
          "metadata": {},
          "execution_count": 12
        }
      ]
    },
    {
      "cell_type": "code",
      "source": [
        "# Write a code to convert the string \"hello\" to uppercase.\n",
        "\n",
        "text = \"hello\"\n",
        "text.upper()"
      ],
      "metadata": {
        "colab": {
          "base_uri": "https://localhost:8080/",
          "height": 36
        },
        "id": "9zQSSatDR-bi",
        "outputId": "41fda78c-2a8d-45f5-c845-9bcc32fce737"
      },
      "execution_count": null,
      "outputs": [
        {
          "output_type": "execute_result",
          "data": {
            "text/plain": [
              "'HELLO'"
            ],
            "application/vnd.google.colaboratory.intrinsic+json": {
              "type": "string"
            }
          },
          "metadata": {},
          "execution_count": 15
        }
      ]
    },
    {
      "cell_type": "code",
      "source": [
        "# Write a code to replace the word \"apple\" with \"orange\" in the string \"I like apple\".\n",
        "\n",
        "a = \"I like apple\"\n",
        "a.replace('apple', 'orange')"
      ],
      "metadata": {
        "colab": {
          "base_uri": "https://localhost:8080/",
          "height": 36
        },
        "id": "fMhCszbXSymr",
        "outputId": "caf62ddf-c5df-4d2d-8e64-a52002dc07cc"
      },
      "execution_count": null,
      "outputs": [
        {
          "output_type": "execute_result",
          "data": {
            "text/plain": [
              "'I like orange'"
            ],
            "application/vnd.google.colaboratory.intrinsic+json": {
              "type": "string"
            }
          },
          "metadata": {},
          "execution_count": 17
        }
      ]
    },
    {
      "cell_type": "code",
      "source": [
        "# Write a code to create a list with numbers 1 to 5 and print it.\n",
        "\n",
        "for i in range(1, 6):\n",
        "  print(i)\n"
      ],
      "metadata": {
        "colab": {
          "base_uri": "https://localhost:8080/"
        },
        "id": "8AHWEi1nTdBH",
        "outputId": "d06730b4-2c25-4bbf-e570-167d0ef3b18a"
      },
      "execution_count": null,
      "outputs": [
        {
          "output_type": "stream",
          "name": "stdout",
          "text": [
            "1\n",
            "2\n",
            "3\n",
            "4\n",
            "5\n"
          ]
        }
      ]
    },
    {
      "cell_type": "code",
      "source": [
        "# Write a code to append the number 10 to the list [1, 2, 3, 4].\n",
        "\n",
        "a = [1, 2, 3, 4]\n",
        "a.append(10)\n",
        "print(a)"
      ],
      "metadata": {
        "colab": {
          "base_uri": "https://localhost:8080/"
        },
        "id": "Wa_K-4z0UHGl",
        "outputId": "ff0e03b7-df85-431c-9008-730b53426dbc"
      },
      "execution_count": null,
      "outputs": [
        {
          "output_type": "stream",
          "name": "stdout",
          "text": [
            "[1, 2, 3, 4, 10]\n"
          ]
        }
      ]
    },
    {
      "cell_type": "code",
      "source": [
        "# Write a code to remove the number 3 from the list [1, 2, 3, 4, 5].\n",
        "\n",
        "s = [1, 2, 3, 4, 5]\n",
        "s.remove(3)\n",
        "print(s)"
      ],
      "metadata": {
        "colab": {
          "base_uri": "https://localhost:8080/"
        },
        "id": "Aif8TuzHUcBA",
        "outputId": "678d99b9-b21f-40ff-d0f7-7ed1377e0d00"
      },
      "execution_count": null,
      "outputs": [
        {
          "output_type": "stream",
          "name": "stdout",
          "text": [
            "[1, 2, 4, 5]\n"
          ]
        }
      ]
    },
    {
      "cell_type": "code",
      "source": [
        "# Write a code to access the second element in the list ['a', 'b', 'c', 'd'].\n",
        "\n",
        "my_list = ['a', 'b', 'c', 'd']\n",
        "second_element = my_list[1]\n",
        "print(second_element)"
      ],
      "metadata": {
        "colab": {
          "base_uri": "https://localhost:8080/"
        },
        "id": "vtuZbwpeU2mp",
        "outputId": "6458502f-e6ac-4e21-ae6e-cba173b6e001"
      },
      "execution_count": null,
      "outputs": [
        {
          "output_type": "stream",
          "name": "stdout",
          "text": [
            "b\n"
          ]
        }
      ]
    },
    {
      "cell_type": "code",
      "source": [
        "# Write a code to reverse the list [10, 20, 30, 40, 50].\n",
        "\n",
        "s = [10, 20, 30, 40, 50]\n",
        "s.reverse()\n",
        "print(s)"
      ],
      "metadata": {
        "colab": {
          "base_uri": "https://localhost:8080/"
        },
        "id": "BJxJaMJfVYUc",
        "outputId": "76a0b15b-f4f0-4752-ad3d-e8e60785cbbd"
      },
      "execution_count": null,
      "outputs": [
        {
          "output_type": "stream",
          "name": "stdout",
          "text": [
            "[50, 40, 30, 20, 10]\n"
          ]
        }
      ]
    },
    {
      "cell_type": "code",
      "source": [
        "# Write a code to create a tuple with the elements 100, 200, 300 and print it.\n",
        "\n",
        "t = (100, 200, 300)\n",
        "print(t)"
      ],
      "metadata": {
        "colab": {
          "base_uri": "https://localhost:8080/"
        },
        "id": "Zbk9M5i8V_fX",
        "outputId": "0e8f8959-1d97-4617-bfac-5fe192cc98c4"
      },
      "execution_count": null,
      "outputs": [
        {
          "output_type": "stream",
          "name": "stdout",
          "text": [
            "(100, 200, 300)\n"
          ]
        }
      ]
    },
    {
      "cell_type": "code",
      "source": [
        "# Write a code to access the second-to-last element of the tuple ('red', 'green', 'blue', 'yellow').\n",
        "\n",
        "colors = ('red', 'green', 'blue', 'yellow')\n",
        "second_to_last_color = colors[-2]\n",
        "print(second_to_last_color)"
      ],
      "metadata": {
        "colab": {
          "base_uri": "https://localhost:8080/"
        },
        "id": "9hQhKoWWWgUx",
        "outputId": "2a2f9f95-f027-4546-fdd2-03b731db58e1"
      },
      "execution_count": null,
      "outputs": [
        {
          "output_type": "stream",
          "name": "stdout",
          "text": [
            "blue\n"
          ]
        }
      ]
    },
    {
      "cell_type": "code",
      "source": [
        "# Write a code to find the minimum number in the tuple (10, 20, 5, 15).\n",
        "\n",
        "numbers = (10, 20, 5, 15)\n",
        "min(numbers)"
      ],
      "metadata": {
        "colab": {
          "base_uri": "https://localhost:8080/"
        },
        "id": "MJdbDeH9W3To",
        "outputId": "835f0616-5c74-41cc-8321-2770472eb204"
      },
      "execution_count": null,
      "outputs": [
        {
          "output_type": "execute_result",
          "data": {
            "text/plain": [
              "5"
            ]
          },
          "metadata": {},
          "execution_count": 41
        }
      ]
    },
    {
      "cell_type": "code",
      "source": [
        "# Write a code to find the index of the element \"cat\" in the tuple ('dog', 'cat', 'rabbit').\n",
        "\n",
        "animals = ('dog', 'cat', 'rabbit')\n",
        "index = animals.index(\"cat\")\n",
        "print(index)"
      ],
      "metadata": {
        "colab": {
          "base_uri": "https://localhost:8080/"
        },
        "id": "oV3ND38UYsI9",
        "outputId": "46b9abc8-216b-4f9b-fbe0-a01c3f0c4310"
      },
      "execution_count": null,
      "outputs": [
        {
          "output_type": "stream",
          "name": "stdout",
          "text": [
            "1\n"
          ]
        }
      ]
    },
    {
      "cell_type": "code",
      "source": [
        "# Write a code to create a tuple containing three different fruits and check if \"kiwi\" is in it.\n",
        "\n",
        "fruits = ('apple', 'kiwi', 'orange')\n",
        "if 'kiwi' in fruits:\n",
        "  print(\"Kiwi is present\")\n",
        "else:\n",
        "  print(\"Kiwi is not present\")\n"
      ],
      "metadata": {
        "colab": {
          "base_uri": "https://localhost:8080/"
        },
        "id": "GS2YRCu4ZYD3",
        "outputId": "a46a7319-f725-41e2-8832-71fbb0c84eac"
      },
      "execution_count": null,
      "outputs": [
        {
          "output_type": "stream",
          "name": "stdout",
          "text": [
            "Kiwi is present\n"
          ]
        }
      ]
    },
    {
      "cell_type": "code",
      "source": [
        "#  Write a code to create a set with the elements 'a', 'b', 'c' and print it.\n",
        "\n",
        "s = {'a', 'b', 'c'}\n",
        "print(s)"
      ],
      "metadata": {
        "colab": {
          "base_uri": "https://localhost:8080/"
        },
        "id": "f9oBcAuIbHuL",
        "outputId": "e52c5df9-69cc-4444-fdc6-3e2cbd253cd4"
      },
      "execution_count": null,
      "outputs": [
        {
          "output_type": "stream",
          "name": "stdout",
          "text": [
            "{'a', 'b', 'c'}\n"
          ]
        }
      ]
    },
    {
      "cell_type": "code",
      "source": [
        "# Write a code to clear all elements from the set {1, 2, 3, 4, 5}.\n",
        "\n",
        "my_set = {1, 2, 3, 4, 5}\n",
        "my_set.clear()\n",
        "print(my_set)"
      ],
      "metadata": {
        "colab": {
          "base_uri": "https://localhost:8080/"
        },
        "id": "DfB8_xEJcIUq",
        "outputId": "c8727307-1f9b-46a2-d5ce-c8dce2416487"
      },
      "execution_count": null,
      "outputs": [
        {
          "output_type": "stream",
          "name": "stdout",
          "text": [
            "set()\n"
          ]
        }
      ]
    },
    {
      "cell_type": "code",
      "source": [
        "# Write a code to remove the element 4 from the set {1, 2, 3, 4}.\n",
        "\n",
        "my_set = {1, 2, 3, 4}\n",
        "my_set.remove(4)\n",
        "print(my_set)"
      ],
      "metadata": {
        "colab": {
          "base_uri": "https://localhost:8080/"
        },
        "id": "ZRDJSifucmET",
        "outputId": "b078b092-5f9b-4b67-f5f0-aaca219e3a37"
      },
      "execution_count": null,
      "outputs": [
        {
          "output_type": "stream",
          "name": "stdout",
          "text": [
            "{1, 2, 3}\n"
          ]
        }
      ]
    },
    {
      "cell_type": "code",
      "source": [
        "# Write a code to find the union of two sets {1, 2, 3} and {3, 4, 5}.\n",
        "\n",
        "s1 = {1, 2, 3}\n",
        "s2 = {3, 4, 5}\n",
        "s1|s2"
      ],
      "metadata": {
        "colab": {
          "base_uri": "https://localhost:8080/"
        },
        "id": "5Rzd38QCdrE8",
        "outputId": "2d1ab062-db6c-4916-e6e5-c3388a2d8070"
      },
      "execution_count": null,
      "outputs": [
        {
          "output_type": "execute_result",
          "data": {
            "text/plain": [
              "{1, 2, 3, 4, 5}"
            ]
          },
          "metadata": {},
          "execution_count": 60
        }
      ]
    },
    {
      "cell_type": "code",
      "source": [
        "# Write a code to find the intersection of two sets {1, 2, 3} and {2, 3, 4}.\n",
        "\n",
        "S1 = {1, 2, 3}\n",
        "S2 = {2, 3, 4}\n",
        "S1&S2"
      ],
      "metadata": {
        "colab": {
          "base_uri": "https://localhost:8080/"
        },
        "id": "a7fQLE3JeJtL",
        "outputId": "689ded4e-ef0a-4ce2-c125-501f1dd44ff1"
      },
      "execution_count": null,
      "outputs": [
        {
          "output_type": "execute_result",
          "data": {
            "text/plain": [
              "{2, 3}"
            ]
          },
          "metadata": {},
          "execution_count": 61
        }
      ]
    },
    {
      "cell_type": "code",
      "source": [
        "# Write a code to create a dictionary with the keys \"name\", \"age\", and \"city\", and print it.\n",
        "\n",
        "my_dict = {\"name\" : \"SOURAV\", \"age\" : 29, \"city\" : \"Durgapur\"}\n",
        "my_dict[\"name\"]"
      ],
      "metadata": {
        "colab": {
          "base_uri": "https://localhost:8080/",
          "height": 36
        },
        "id": "cVHSWRuleg5N",
        "outputId": "9468a252-11a1-43e9-a11b-6f4a41a5738b"
      },
      "execution_count": null,
      "outputs": [
        {
          "output_type": "execute_result",
          "data": {
            "text/plain": [
              "'SOURAV'"
            ],
            "application/vnd.google.colaboratory.intrinsic+json": {
              "type": "string"
            }
          },
          "metadata": {},
          "execution_count": 65
        }
      ]
    },
    {
      "cell_type": "code",
      "source": [
        "my_dict = {\"name\" : \"SOURAV\", \"age\" : 29, \"city\" : \"Durgapur\"}\n",
        "my_dict[\"age\"]"
      ],
      "metadata": {
        "colab": {
          "base_uri": "https://localhost:8080/"
        },
        "id": "xEjJj3dnfOAb",
        "outputId": "dd58fdd1-350b-40b1-90b5-ffd0cabcf12a"
      },
      "execution_count": null,
      "outputs": [
        {
          "output_type": "execute_result",
          "data": {
            "text/plain": [
              "29"
            ]
          },
          "metadata": {},
          "execution_count": 66
        }
      ]
    },
    {
      "cell_type": "code",
      "source": [
        "my_dict = {\"name\" : \"SOURAV\", \"age\" : 29, \"city\" : \"Durgapur\"}\n",
        "my_dict[\"city\"]"
      ],
      "metadata": {
        "colab": {
          "base_uri": "https://localhost:8080/",
          "height": 36
        },
        "id": "h5DbpSKQgEbN",
        "outputId": "d523f8bf-9b06-4859-c6c9-4a5f423a1cd3"
      },
      "execution_count": null,
      "outputs": [
        {
          "output_type": "execute_result",
          "data": {
            "text/plain": [
              "'Durgapur'"
            ],
            "application/vnd.google.colaboratory.intrinsic+json": {
              "type": "string"
            }
          },
          "metadata": {},
          "execution_count": 67
        }
      ]
    },
    {
      "cell_type": "code",
      "source": [
        "# Write a code to add a new key-value pair \"country\": \"USA\" to the dictionary {'name': 'John', 'age': 25}.\n",
        "\n",
        "a = {\"name\": \"John\", \"age\": 25}\n",
        "\n",
        "# Adding an item to the dictionary\n",
        "a[\"country\"] = \"USA\"\n",
        "\n",
        "print(a)"
      ],
      "metadata": {
        "colab": {
          "base_uri": "https://localhost:8080/"
        },
        "id": "ioO5KCxOgHjg",
        "outputId": "a2165f70-7c59-4911-9b15-81701b02c44d"
      },
      "execution_count": null,
      "outputs": [
        {
          "output_type": "stream",
          "name": "stdout",
          "text": [
            "{'name': 'John', 'age': 25, 'country': 'USA'}\n"
          ]
        }
      ]
    },
    {
      "cell_type": "code",
      "source": [
        "# Write a code to access the value associated with the key \"name\" in the dictionary {'name': 'Alice', 'age': 30}\n",
        "\n",
        "my_dict = {'name': 'Alice', 'age': 30}\n",
        "my_dict['name']"
      ],
      "metadata": {
        "colab": {
          "base_uri": "https://localhost:8080/",
          "height": 36
        },
        "id": "ZRuLKBG4gcSo",
        "outputId": "635f87ff-0136-4408-cedd-ed44af3caa37"
      },
      "execution_count": null,
      "outputs": [
        {
          "output_type": "execute_result",
          "data": {
            "text/plain": [
              "'Alice'"
            ],
            "application/vnd.google.colaboratory.intrinsic+json": {
              "type": "string"
            }
          },
          "metadata": {},
          "execution_count": 77
        }
      ]
    },
    {
      "cell_type": "code",
      "source": [
        "# Write a code to remove the key \"age\" from the dictionary {'name': 'Bob', 'age': 22, 'city': 'New York'}.\n",
        "\n",
        "dict = {'name': 'Bob', 'age': 22, 'city': 'New York'}\n",
        "del dict[\"age\"]\n",
        "print(dict)"
      ],
      "metadata": {
        "colab": {
          "base_uri": "https://localhost:8080/"
        },
        "id": "QrmioocignqR",
        "outputId": "79ce8d88-2bcb-40d9-d286-26f3093943e8"
      },
      "execution_count": null,
      "outputs": [
        {
          "output_type": "stream",
          "name": "stdout",
          "text": [
            "{'name': 'Bob', 'city': 'New York'}\n"
          ]
        }
      ]
    },
    {
      "cell_type": "code",
      "source": [
        "# Write a code to check if the key \"city\" exists in the dictionary {'name': 'Alice', 'city': 'Paris'}.\n",
        "\n",
        "dict = {'name': 'Alice', 'city': 'Paris'}\n",
        "if \"city\" in dict:\n",
        "  print(\"City in present\")\n",
        "else:\n",
        "  print(\"City not present\")"
      ],
      "metadata": {
        "colab": {
          "base_uri": "https://localhost:8080/"
        },
        "id": "2Vc9fmnhiZM3",
        "outputId": "3a4b8af9-e7f3-4f7f-d952-b9f7f7f06341"
      },
      "execution_count": null,
      "outputs": [
        {
          "output_type": "stream",
          "name": "stdout",
          "text": [
            "City in present\n"
          ]
        }
      ]
    },
    {
      "cell_type": "code",
      "source": [
        "# Write a code to create a list, a tuple, and a dictionary, and print them all.\n",
        "\n",
        "my_list = [\"Sourav\", \"Ajay\" , \"Dipali\"]\n",
        "my_tuple = (\"Sourav\", \"Ajay\" , \"Dipali\")\n",
        "my_dict = {\"name\" : \"Sourav\", \"age\" : 29}\n",
        "print( my_list, my_tuple, my_dict)"
      ],
      "metadata": {
        "colab": {
          "base_uri": "https://localhost:8080/"
        },
        "id": "yYXMDACCjAIe",
        "outputId": "acc2cfd1-c7b6-4c6a-c20e-81b40bd164d7"
      },
      "execution_count": null,
      "outputs": [
        {
          "output_type": "stream",
          "name": "stdout",
          "text": [
            "['Sourav', 'Ajay', 'Dipali'] ('Sourav', 'Ajay', 'Dipali') {'name': 'Sourav', 'age': 29}\n"
          ]
        }
      ]
    },
    {
      "cell_type": "code",
      "source": [
        "# Write a code to create a list of 5 random numbers between 1 and 100, sort it in ascending order, and print the result.\n",
        "\n",
        "result = [40, 50, 30, 90, 80]\n",
        "result.sort()\n",
        "print(result)"
      ],
      "metadata": {
        "colab": {
          "base_uri": "https://localhost:8080/"
        },
        "id": "S_M02OEAkSxf",
        "outputId": "55d37873-53fc-4293-8911-c8d11ccc64c0"
      },
      "execution_count": null,
      "outputs": [
        {
          "output_type": "stream",
          "name": "stdout",
          "text": [
            "[30, 40, 50, 80, 90]\n"
          ]
        }
      ]
    },
    {
      "cell_type": "code",
      "source": [
        "# Write a code to create a list with strings and print the element at the third index.\n",
        "\n",
        "a = [\"1\", \"2\", \"3\"]\n",
        "a.insert(2, \"10\")\n",
        "print(a)"
      ],
      "metadata": {
        "colab": {
          "base_uri": "https://localhost:8080/"
        },
        "id": "rslSK6qMljn-",
        "outputId": "ab44b6dc-fa5e-4f3e-8278-972051a3b041"
      },
      "execution_count": null,
      "outputs": [
        {
          "output_type": "stream",
          "name": "stdout",
          "text": [
            "['1', '2', '10', '3']\n"
          ]
        }
      ]
    },
    {
      "cell_type": "code",
      "source": [
        "# Write a code to combine two dictionaries into one and print the result.\n",
        "\n",
        "dict_a = {'a': 1, 'b': 2}\n",
        "dict_b = {'b': 3, 'c': 4}\n",
        "combined_dict = (dict_a, dict_b)\n",
        "print(combined_dict)"
      ],
      "metadata": {
        "colab": {
          "base_uri": "https://localhost:8080/"
        },
        "id": "rILIXykqnnRa",
        "outputId": "429c8a6f-479c-42af-f69a-1d43d787187f"
      },
      "execution_count": null,
      "outputs": [
        {
          "output_type": "stream",
          "name": "stdout",
          "text": [
            "({'a': 1, 'b': 2}, {'b': 3, 'c': 4})\n"
          ]
        }
      ]
    },
    {
      "cell_type": "code",
      "source": [
        "# Write a code to convert a list of strings into a set.\n",
        "\n",
        "s = [1,1,2,3,4,2,5]\n",
        "convertset = set(s)\n",
        "print(convertset)"
      ],
      "metadata": {
        "colab": {
          "base_uri": "https://localhost:8080/"
        },
        "id": "qQUSQRUdolqu",
        "outputId": "9474d473-388f-4656-b18b-4f4bc3cf93a9"
      },
      "execution_count": null,
      "outputs": [
        {
          "output_type": "stream",
          "name": "stdout",
          "text": [
            "{1, 2, 3, 4, 5}\n"
          ]
        }
      ]
    },
    {
      "cell_type": "code",
      "source": [
        "type(convertset)"
      ],
      "metadata": {
        "colab": {
          "base_uri": "https://localhost:8080/"
        },
        "id": "-YDGQ6ADp1P2",
        "outputId": "03b4b520-87db-472f-b26c-7649fc0f2c45"
      },
      "execution_count": null,
      "outputs": [
        {
          "output_type": "execute_result",
          "data": {
            "text/plain": [
              "set"
            ]
          },
          "metadata": {},
          "execution_count": 111
        }
      ]
    }
  ]
}